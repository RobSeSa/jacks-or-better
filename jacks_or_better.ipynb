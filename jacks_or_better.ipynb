{
 "metadata": {
  "language_info": {
   "codemirror_mode": {
    "name": "ipython",
    "version": 3
   },
   "file_extension": ".py",
   "mimetype": "text/x-python",
   "name": "python",
   "nbconvert_exporter": "python",
   "pygments_lexer": "ipython3",
   "version": "3.7.3-final"
  },
  "orig_nbformat": 2,
  "kernelspec": {
   "name": "python3",
   "display_name": "Python 3",
   "language": "python"
  }
 },
 "nbformat": 4,
 "nbformat_minor": 2,
 "cells": [
  {
   "source": [
    "# Jacks or Better"
   ],
   "cell_type": "markdown",
   "metadata": {}
  },
  {
   "cell_type": "code",
   "execution_count": 15,
   "metadata": {},
   "outputs": [],
   "source": [
    "import numpy as np\n",
    "import game_class\n",
    "from game_class import Game"
   ]
  },
  {
   "source": [
    "## Play the Game !"
   ],
   "cell_type": "markdown",
   "metadata": {}
  },
  {
   "cell_type": "code",
   "execution_count": 16,
   "metadata": {},
   "outputs": [
    {
     "output_type": "stream",
     "name": "stdout",
     "text": [
      "Your starting hand:\nHand: 8-diamonds 5-clubs A-diamonds 7-hearts J-spades \n"
     ]
    }
   ],
   "source": [
    "g = Game()\n",
    "g.show_starting_cards()"
   ]
  },
  {
   "cell_type": "code",
   "execution_count": 17,
   "metadata": {},
   "outputs": [
    {
     "output_type": "stream",
     "name": "stdout",
     "text": [
      "Enter 'y' to keep card and 'n' to replace\n",
      "Would you like to keep 8-diamonds ? (y/n)\n",
      "Would you like to keep 5-clubs ? (y/n)\n",
      "Would you like to keep A-diamonds ? (y/n)\n",
      "Would you like to keep 7-hearts ? (y/n)\n",
      "Would you like to keep J-spades ? (y/n)\n"
     ]
    }
   ],
   "source": [
    "g.ask_to_replace_cards()"
   ]
  },
  {
   "cell_type": "code",
   "execution_count": 18,
   "metadata": {},
   "outputs": [
    {
     "output_type": "stream",
     "name": "stdout",
     "text": [
      "Your final hand:\nHand: 2-clubs Q-spades A-diamonds 4-clubs J-clubs \n"
     ]
    }
   ],
   "source": [
    "g.show_final_cards()"
   ]
  },
  {
   "cell_type": "code",
   "execution_count": 19,
   "metadata": {},
   "outputs": [
    {
     "output_type": "stream",
     "name": "stdout",
     "text": [
      "Computing reward for: Hand: 2-clubs Q-spades A-diamonds 4-clubs J-clubs \nNumerical rep of hand: [27, 11, 39, 29, 36]\nAfter sorting: [11, 27, 29, 36, 39]\n"
     ]
    }
   ],
   "source": [
    "g.get_game_results()"
   ]
  },
  {
   "cell_type": "code",
   "execution_count": null,
   "metadata": {},
   "outputs": [],
   "source": []
  },
  {
   "cell_type": "code",
   "execution_count": null,
   "metadata": {},
   "outputs": [],
   "source": []
  },
  {
   "cell_type": "code",
   "execution_count": 24,
   "metadata": {},
   "outputs": [],
   "source": [
    "import reward_class\n",
    "from hand_class import Hand"
   ]
  },
  {
   "cell_type": "code",
   "execution_count": 35,
   "metadata": {},
   "outputs": [],
   "source": [
    "def hand_to_nums(hand):\n",
    "    hand_as_nums = []\n",
    "    for card in hand.hand:\n",
    "        hand_as_nums.append(card.card_num)\n",
    "    print(\"Numerical rep of hand:\", hand_as_nums)\n",
    "    hand_as_nums.sort()\n",
    "    print(\"After sorting:\", hand_as_nums)\n",
    "    return hand_as_nums\n"
   ]
  },
  {
   "cell_type": "code",
   "execution_count": 38,
   "metadata": {},
   "outputs": [
    {
     "output_type": "stream",
     "name": "stdout",
     "text": [
      "Hand: 2-spades 3-spades 4-spades 5-spades 6-spades \nNumerical rep of hand: [1, 2, 3, 4, 5]\nAfter sorting: [1, 2, 3, 4, 5]\n"
     ]
    },
    {
     "output_type": "execute_result",
     "data": {
      "text/plain": [
       "True"
      ]
     },
     "metadata": {},
     "execution_count": 38
    }
   ],
   "source": [
    "# Test straights\n",
    "straight_2_6 = Hand()\n",
    "for card_num in range(1,6):\n",
    "    straight_2_6.add_card(card_num)\n",
    "print(straight_2_6)\n",
    "straight_2_6 = hand_to_nums(straight_2_6)\n",
    "\n",
    "reward_class.is_straight(straight_2_6)"
   ]
  },
  {
   "cell_type": "code",
   "execution_count": null,
   "metadata": {},
   "outputs": [],
   "source": [
    "straight_A_5 = Hand()\n",
    "for card_num in range(5):\n",
    "    straight_A_5.add_card(card_num)\n",
    "print(straight_A_5)\n",
    "straight_A_5 = hand_to_nums(straight_A_5)"
   ]
  },
  {
   "cell_type": "code",
   "execution_count": null,
   "metadata": {},
   "outputs": [],
   "source": [
    "# Test flushes\n"
   ]
  }
 ]
}