{
 "metadata": {
  "language_info": {
   "codemirror_mode": {
    "name": "ipython",
    "version": 3
   },
   "file_extension": ".py",
   "mimetype": "text/x-python",
   "name": "python",
   "nbconvert_exporter": "python",
   "pygments_lexer": "ipython3",
   "version": "3.7.3-final"
  },
  "orig_nbformat": 2,
  "kernelspec": {
   "name": "python3",
   "display_name": "Python 3",
   "language": "python"
  }
 },
 "nbformat": 4,
 "nbformat_minor": 2,
 "cells": [
  {
   "source": [
    "# Jacks or Better"
   ],
   "cell_type": "markdown",
   "metadata": {}
  },
  {
   "cell_type": "code",
   "execution_count": 4,
   "metadata": {},
   "outputs": [],
   "source": [
    "import numpy as np\n",
    "import game_class\n",
    "from game_class import Game"
   ]
  },
  {
   "source": [
    "## Play the Game !"
   ],
   "cell_type": "markdown",
   "metadata": {}
  },
  {
   "cell_type": "code",
   "execution_count": 5,
   "metadata": {},
   "outputs": [
    {
     "output_type": "stream",
     "name": "stdout",
     "text": [
      "Your starting hand:\nHand: 10-spades 2-diamonds Q-diamonds 9-clubs 6-spades \n"
     ]
    }
   ],
   "source": [
    "g = Game()\n",
    "#g.show_all()\n",
    "g.show_starting_cards()\n",
    "#g.reset()"
   ]
  },
  {
   "cell_type": "code",
   "execution_count": 6,
   "metadata": {},
   "outputs": [
    {
     "output_type": "stream",
     "name": "stdout",
     "text": [
      "Enter 'y' to keep card and 'n' to replace\n",
      "Would you like to keep 10-spades ? (y/n)\n",
      "Would you like to keep 2-diamonds ? (y/n)\n",
      "Would you like to keep Q-diamonds ? (y/n)\n",
      "Would you like to keep 9-clubs ? (y/n)\n",
      "Would you like to keep 6-spades ? (y/n)\n"
     ]
    }
   ],
   "source": [
    "g.ask_to_replace_cards()"
   ]
  },
  {
   "cell_type": "code",
   "execution_count": 7,
   "metadata": {},
   "outputs": [
    {
     "output_type": "stream",
     "name": "stdout",
     "text": [
      "Your final hand:\nHand: 2-spades J-spades Q-diamonds 9-hearts 3-hearts \n"
     ]
    }
   ],
   "source": [
    "g.show_final_cards()"
   ]
  },
  {
   "cell_type": "code",
   "execution_count": 8,
   "metadata": {},
   "outputs": [
    {
     "output_type": "stream",
     "name": "stdout",
     "text": [
      "\nGetting reward from final hand\nComputing reward for: Hand: 2-spades J-spades Q-diamonds 9-hearts 3-hearts \nNumerical rep of hand: [1, 10, 50, 21, 15]\nAfter sorting: [1, 10, 15, 21, 50]\n"
     ]
    }
   ],
   "source": [
    "print(\"\\nGetting reward from final hand\")\n",
    "g.get_game_results()"
   ]
  },
  {
   "cell_type": "code",
   "execution_count": null,
   "metadata": {},
   "outputs": [],
   "source": []
  }
 ]
}