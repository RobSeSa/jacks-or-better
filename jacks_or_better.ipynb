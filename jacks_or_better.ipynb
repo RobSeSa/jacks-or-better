{
 "cells": [
  {
   "cell_type": "markdown",
   "metadata": {},
   "source": [
    "# Jacks or Better"
   ]
  },
  {
   "cell_type": "code",
   "execution_count": 1,
   "metadata": {},
   "outputs": [],
   "source": [
    "import numpy as np\n",
    "import game_class\n",
    "from game_class import Game"
   ]
  },
  {
   "cell_type": "markdown",
   "metadata": {},
   "source": [
    "## Play the Game !"
   ]
  },
  {
   "cell_type": "code",
   "execution_count": 2,
   "metadata": {},
   "outputs": [
    {
     "name": "stdout",
     "output_type": "stream",
     "text": [
      "Your starting hand:\n",
      "Hand: A-diamonds 3-hearts 10-clubs Q-hearts 8-hearts \n"
     ]
    }
   ],
   "source": [
    "g = Game()\n",
    "g.show_starting_cards()"
   ]
  },
  {
   "cell_type": "code",
   "execution_count": 3,
   "metadata": {},
   "outputs": [
    {
     "name": "stdout",
     "output_type": "stream",
     "text": [
      "Enter 'y' to keep card and 'n' to replace\n",
      "Would you like to keep A-diamonds ? (y/n)\n",
      "\n",
      "Invalid reply.\n",
      "Would you like to keep A-diamonds ? (y/n)\n",
      "\n",
      "Invalid reply.\n",
      "Would you like to keep A-diamonds ? (y/n)\n",
      "\n",
      "Invalid reply.\n",
      "Would you like to keep A-diamonds ? (y/n)\n",
      "\n",
      "Invalid reply.\n",
      "Would you like to keep A-diamonds ? (y/n)\n",
      "\n",
      "Invalid reply.\n",
      "Would you like to keep A-diamonds ? (y/n)\n",
      "y\n",
      "Would you like to keep 3-hearts ? (y/n)\n",
      "n\n",
      "Would you like to keep 10-clubs ? (y/n)\n",
      "n\n",
      "Would you like to keep Q-hearts ? (y/n)\n",
      "y\n",
      "Would you like to keep 8-hearts ? (y/n)\n",
      "n\n"
     ]
    }
   ],
   "source": [
    "g.ask_to_replace_cards()"
   ]
  },
  {
   "cell_type": "code",
   "execution_count": 4,
   "metadata": {},
   "outputs": [
    {
     "name": "stdout",
     "output_type": "stream",
     "text": [
      "Your final hand:\n",
      "Hand: A-diamonds Q-spades 2-spades Q-hearts J-diamonds \n"
     ]
    }
   ],
   "source": [
    "g.show_final_cards()"
   ]
  },
  {
   "cell_type": "code",
   "execution_count": 5,
   "metadata": {},
   "outputs": [
    {
     "name": "stdout",
     "output_type": "stream",
     "text": [
      "Computing reward for: Hand: A-diamonds Q-spades 2-spades Q-hearts J-diamonds \n",
      "Congratulations !!!\n",
      "You got a j_or_better for 1 points!\n"
     ]
    }
   ],
   "source": [
    "g.get_game_results()"
   ]
  },
  {
   "cell_type": "code",
   "execution_count": 12,
   "metadata": {},
   "outputs": [
    {
     "name": "stdout",
     "output_type": "stream",
     "text": [
      "1\n",
      "1\n",
      "0\n",
      "0\n",
      "0\n"
     ]
    }
   ],
   "source": [
    "action = 3\n",
    "for i in range(5):\n",
    "    curr_action = (action >> i) % 2\n",
    "    print(curr_action)"
   ]
  },
  {
   "cell_type": "code",
   "execution_count": 15,
   "metadata": {},
   "outputs": [],
   "source": [
    "def get_indiv_actions(action):\n",
    "    # convert integer (0-15) to list of 5 actions (1=KEEP,0=REPLACE)\n",
    "    res = []\n",
    "    for i in range(5):\n",
    "        res.append((action >> i) % 2)\n",
    "    return res"
   ]
  },
  {
   "cell_type": "code",
   "execution_count": 17,
   "metadata": {},
   "outputs": [
    {
     "name": "stdout",
     "output_type": "stream",
     "text": [
      "[1, 1, 0, 0, 0]\n"
     ]
    }
   ],
   "source": [
    "print(get_indiv_actions(3))"
   ]
  },
  {
   "cell_type": "code",
   "execution_count": 18,
   "metadata": {},
   "outputs": [],
   "source": [
    "g.reset()"
   ]
  },
  {
   "cell_type": "code",
   "execution_count": 22,
   "metadata": {},
   "outputs": [],
   "source": [
    "hand_as_nums = [c.card_num for c in g.hand.hand]"
   ]
  },
  {
   "cell_type": "code",
   "execution_count": 23,
   "metadata": {},
   "outputs": [
    {
     "data": {
      "text/plain": [
       "[39, 50, 2, 48, 34]"
      ]
     },
     "execution_count": 23,
     "metadata": {},
     "output_type": "execute_result"
    }
   ],
   "source": [
    "hand_as_nums"
   ]
  },
  {
   "cell_type": "code",
   "execution_count": 27,
   "metadata": {},
   "outputs": [
    {
     "name": "stdout",
     "output_type": "stream",
     "text": [
      "Computing reward for: Hand: A-diamonds Q-diamonds 3-spades 10-diamonds 9-clubs \n",
      "Oh no! You didn't win anything!\n"
     ]
    },
    {
     "data": {
      "text/plain": [
       "0"
      ]
     },
     "execution_count": 27,
     "metadata": {},
     "output_type": "execute_result"
    }
   ],
   "source": [
    "reward_class.compute_rewards(g.hand)"
   ]
  },
  {
   "cell_type": "code",
   "execution_count": 33,
   "metadata": {},
   "outputs": [
    {
     "data": {
      "text/plain": [
       "Hand: 5-diamonds Q-diamonds 3-spades 10-diamonds 9-clubs "
      ]
     },
     "execution_count": 33,
     "metadata": {},
     "output_type": "execute_result"
    }
   ],
   "source": [
    "g.hand"
   ]
  },
  {
   "cell_type": "code",
   "execution_count": 32,
   "metadata": {},
   "outputs": [],
   "source": [
    "i = 0\n",
    "\n",
    "new_card_num = g.deck.get_one_card()\n",
    "#g.hand.remove_card_by_index(i)\n",
    "g.hand.add_card_by_index(new_card_num=new_card_num, i=i)"
   ]
  },
  {
   "cell_type": "code",
   "execution_count": null,
   "metadata": {},
   "outputs": [],
   "source": []
  },
  {
   "cell_type": "code",
   "execution_count": null,
   "metadata": {},
   "outputs": [],
   "source": []
  },
  {
   "cell_type": "code",
   "execution_count": null,
   "metadata": {},
   "outputs": [],
   "source": []
  },
  {
   "cell_type": "code",
   "execution_count": 6,
   "metadata": {},
   "outputs": [],
   "source": [
    "import reward_class\n",
    "from hand_class import Hand"
   ]
  },
  {
   "cell_type": "code",
   "execution_count": 7,
   "metadata": {},
   "outputs": [],
   "source": [
    "def hand_to_nums(hand):\n",
    "    hand_as_nums = []\n",
    "    for card in hand.hand:\n",
    "        hand_as_nums.append(card.card_num)\n",
    "    print(\"Numerical rep of hand:\", hand_as_nums)\n",
    "    hand_as_nums.sort()\n",
    "    print(\"After sorting:\", hand_as_nums)\n",
    "    return hand_as_nums\n"
   ]
  },
  {
   "cell_type": "code",
   "execution_count": 8,
   "metadata": {},
   "outputs": [
    {
     "name": "stdout",
     "output_type": "stream",
     "text": [
      "Hand: 2-spades 3-spades 4-spades 5-spades 6-spades \n",
      "Numerical rep of hand: [1, 2, 3, 4, 5]\n",
      "After sorting: [1, 2, 3, 4, 5]\n"
     ]
    },
    {
     "data": {
      "text/plain": [
       "True"
      ]
     },
     "execution_count": 8,
     "metadata": {},
     "output_type": "execute_result"
    }
   ],
   "source": [
    "# Test straights\n",
    "straight_2_6 = Hand()\n",
    "for card_num in range(1,6):\n",
    "    straight_2_6.add_card(card_num)\n",
    "print(straight_2_6)\n",
    "straight_2_6 = hand_to_nums(straight_2_6)\n",
    "\n",
    "reward_class.is_straight(straight_2_6)"
   ]
  },
  {
   "cell_type": "code",
   "execution_count": 9,
   "metadata": {},
   "outputs": [
    {
     "name": "stdout",
     "output_type": "stream",
     "text": [
      "Hand: A-spades 2-spades 3-spades 4-spades 5-spades \n",
      "Numerical rep of hand: [0, 1, 2, 3, 4]\n",
      "After sorting: [0, 1, 2, 3, 4]\n"
     ]
    }
   ],
   "source": [
    "straight_A_5 = Hand()\n",
    "for card_num in range(5):\n",
    "    straight_A_5.add_card(card_num)\n",
    "print(straight_A_5)\n",
    "straight_A_5 = hand_to_nums(straight_A_5)"
   ]
  },
  {
   "cell_type": "code",
   "execution_count": 10,
   "metadata": {},
   "outputs": [],
   "source": [
    "# Test flushes\n"
   ]
  },
  {
   "cell_type": "code",
   "execution_count": null,
   "metadata": {},
   "outputs": [],
   "source": []
  }
 ],
 "metadata": {
  "kernelspec": {
   "display_name": "Python 3",
   "language": "python",
   "name": "python3"
  },
  "language_info": {
   "codemirror_mode": {
    "name": "ipython",
    "version": 3
   },
   "file_extension": ".py",
   "mimetype": "text/x-python",
   "name": "python",
   "nbconvert_exporter": "python",
   "pygments_lexer": "ipython3",
   "version": "3.7.3"
  }
 },
 "nbformat": 4,
 "nbformat_minor": 2
}
